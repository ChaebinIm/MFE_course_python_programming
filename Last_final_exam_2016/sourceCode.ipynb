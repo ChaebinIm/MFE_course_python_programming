{
 "cells": [
  {
   "cell_type": "code",
   "execution_count": 207,
   "metadata": {},
   "outputs": [],
   "source": [
    "import numpy as np\n",
    "import pandas as pd\n",
    "import matplotlib.pyplot as plt\n",
    "from IPython.core.interactiveshell import InteractiveShell\n",
    "InteractiveShell.ast_node_interactivity = \"all\" # 한 실행칸에 프린트 여러개 해도 다 출력시키도록 하는 코드.\n",
    "import warnings\n",
    "warnings.filterwarnings(action='ignore')\n",
    "import seaborn as sns\n",
    "pd.set_option('display.max_rows', 500)\n",
    "from datetime import datetime\n",
    "import scipy as sp\n",
    "import scipy.stats\n",
    "from scipy.optimize import minimize, minimize_scalar\n",
    "from scipy.interpolate import interp1d\n",
    "from string import ascii_uppercase\n",
    "from itertools import permutations\n",
    "from sklearn.linear_model import LinearRegression"
   ]
  },
  {
   "cell_type": "markdown",
   "metadata": {},
   "source": [
    "# 1번"
   ]
  },
  {
   "cell_type": "code",
   "execution_count": 31,
   "metadata": {},
   "outputs": [],
   "source": [
    "def alphabet_generator(n):\n",
    "    ints = np.random.randint(0, 26, size = n) + 65\n",
    "    _dict = dict(zip(list(ascii_uppercase), np.zeros(len(list(ascii_uppercase)))))\n",
    "    for i in range(len(ints)):\n",
    "        _dict[chr(ints[i])] = _dict[chr(ints[i])] + 1\n",
    "    return _dict"
   ]
  },
  {
   "cell_type": "code",
   "execution_count": 38,
   "metadata": {},
   "outputs": [
    {
     "data": {
      "text/plain": [
       "<matplotlib.axes._subplots.AxesSubplot at 0x126125828>"
      ]
     },
     "execution_count": 38,
     "metadata": {},
     "output_type": "execute_result"
    },
    {
     "data": {
      "image/png": "[encoded data removed]",
      "text/plain": [
       "<Figure size 432x288 with 1 Axes>"
      ]
     },
     "metadata": {
      "needs_background": "light"
     },
     "output_type": "display_data"
    }
   ],
   "source": [
    "alpha_freq_series = pd.Series(alphabet_generator(1000))\n",
    "alpha_freq_series.plot(kind = 'bar', color = 'b')\n",
    "plt.show()"
   ]
  },
  {
   "cell_type": "markdown",
   "metadata": {},
   "source": [
    "# 2번"
   ]
  },
  {
   "cell_type": "code",
   "execution_count": 51,
   "metadata": {},
   "outputs": [
    {
     "data": {
      "text/plain": [
       "['A;B;C;D', '0;50;10;45', '50;0;25;40', '10;25;0;25', '45;40;25;0']"
      ]
     },
     "execution_count": 51,
     "metadata": {},
     "output_type": "execute_result"
    }
   ],
   "source": [
    "f1 = open(\"./Data2.txt\", 'r', encoding = 'utf-8')\n",
    "arr = []\n",
    "while True:\n",
    "    line = f1.readline()\n",
    "    if not line: \n",
    "        break\n",
    "    else:\n",
    "        tmp = line.split()\n",
    "        for i in range(len(tmp)):\n",
    "            arr.append(tmp[i])\n",
    "arr"
   ]
  },
  {
   "cell_type": "code",
   "execution_count": 52,
   "metadata": {},
   "outputs": [
    {
     "data": {
      "text/plain": [
       "[['0', '50', '10', '45'],\n",
       " ['50', '0', '25', '40'],\n",
       " ['10', '25', '0', '25'],\n",
       " ['45', '40', '25', '0']]"
      ]
     },
     "execution_count": 52,
     "metadata": {},
     "output_type": "execute_result"
    },
    {
     "data": {
      "text/plain": [
       "[[0, 50, 10, 45], [50, 0, 25, 40], [10, 25, 0, 25], [45, 40, 25, 0]]"
      ]
     },
     "execution_count": 52,
     "metadata": {},
     "output_type": "execute_result"
    }
   ],
   "source": [
    "region = arr[0].split(';')\n",
    "arr = arr[1:]\n",
    "distance = []\n",
    "for i in range(len(arr)):\n",
    "    distance.append(arr[i].split(';'))\n",
    "distance\n",
    "\n",
    "# str to int\n",
    "for i in range(len(distance)):\n",
    "    for j in range(len(distance)):\n",
    "        distance[i][j] = int(distance[i][j])\n",
    "distance"
   ]
  },
  {
   "cell_type": "code",
   "execution_count": 60,
   "metadata": {},
   "outputs": [
    {
     "data": {
      "text/plain": [
       "[(0, 1, 2, 3),\n",
       " (0, 1, 3, 2),\n",
       " (0, 2, 1, 3),\n",
       " (0, 2, 3, 1),\n",
       " (0, 3, 1, 2),\n",
       " (0, 3, 2, 1),\n",
       " (1, 0, 2, 3),\n",
       " (1, 0, 3, 2),\n",
       " (1, 2, 0, 3),\n",
       " (1, 2, 3, 0),\n",
       " (1, 3, 0, 2),\n",
       " (1, 3, 2, 0),\n",
       " (2, 0, 1, 3),\n",
       " (2, 0, 3, 1),\n",
       " (2, 1, 0, 3),\n",
       " (2, 1, 3, 0),\n",
       " (2, 3, 0, 1),\n",
       " (2, 3, 1, 0),\n",
       " (3, 0, 1, 2),\n",
       " (3, 0, 2, 1),\n",
       " (3, 1, 0, 2),\n",
       " (3, 1, 2, 0),\n",
       " (3, 2, 0, 1),\n",
       " (3, 2, 1, 0)]"
      ]
     },
     "execution_count": 60,
     "metadata": {},
     "output_type": "execute_result"
    },
    {
     "data": {
      "text/plain": [
       "[(0, 1, 2, 3, 0),\n",
       " (0, 1, 3, 2, 0),\n",
       " (0, 2, 1, 3, 0),\n",
       " (0, 2, 3, 1, 0),\n",
       " (0, 3, 1, 2, 0),\n",
       " (0, 3, 2, 1, 0),\n",
       " (1, 0, 2, 3, 1),\n",
       " (1, 0, 3, 2, 1),\n",
       " (1, 2, 0, 3, 1),\n",
       " (1, 2, 3, 0, 1),\n",
       " (1, 3, 0, 2, 1),\n",
       " (1, 3, 2, 0, 1),\n",
       " (2, 0, 1, 3, 2),\n",
       " (2, 0, 3, 1, 2),\n",
       " (2, 1, 0, 3, 2),\n",
       " (2, 1, 3, 0, 2),\n",
       " (2, 3, 0, 1, 2),\n",
       " (2, 3, 1, 0, 2),\n",
       " (3, 0, 1, 2, 3),\n",
       " (3, 0, 2, 1, 3),\n",
       " (3, 1, 0, 2, 3),\n",
       " (3, 1, 2, 0, 3),\n",
       " (3, 2, 0, 1, 3),\n",
       " (3, 2, 1, 0, 3)]"
      ]
     },
     "execution_count": 60,
     "metadata": {},
     "output_type": "execute_result"
    }
   ],
   "source": [
    "_list = list(permutations(list(range(len(region))), len(region)))\n",
    "for i in range(len(_list)):\n",
    "    _list[i] = _list[i] + (_list[i][0], )\n",
    "_list"
   ]
  },
  {
   "cell_type": "code",
   "execution_count": 69,
   "metadata": {},
   "outputs": [
    {
     "data": {
      "text/plain": [
       "[(0, 2, 1, 3, 0),\n",
       " (0, 3, 1, 2, 0),\n",
       " (1, 2, 0, 3, 1),\n",
       " (1, 3, 0, 2, 1),\n",
       " (2, 0, 3, 1, 2),\n",
       " (2, 1, 3, 0, 2),\n",
       " (3, 0, 2, 1, 3),\n",
       " (3, 1, 2, 0, 3)]"
      ]
     },
     "execution_count": 69,
     "metadata": {},
     "output_type": "execute_result"
    },
    {
     "data": {
      "text/plain": [
       "120"
      ]
     },
     "execution_count": 69,
     "metadata": {},
     "output_type": "execute_result"
    }
   ],
   "source": [
    "result2 = []\n",
    "min_distance_sum = np.inf\n",
    "for i in range(len(_list)):\n",
    "    tmp_distance_sum = 0\n",
    "    for j in range(len(_list[i])-1):\n",
    "        tmp_distance_sum = tmp_distance_sum + distance[_list[i][j]][_list[i][j+1]]\n",
    "    if(tmp_distance_sum < min_distance_sum):\n",
    "        min_distance_sum = tmp_distance_sum\n",
    "        result2.clear()\n",
    "        result2.append(_list[i])\n",
    "    elif(tmp_distance_sum == min_distance_sum):\n",
    "        result2.append(_list[i])\n",
    "    else:\n",
    "        continue\n",
    "result2\n",
    "min_distance_sum"
   ]
  },
  {
   "cell_type": "code",
   "execution_count": 72,
   "metadata": {},
   "outputs": [
    {
     "name": "stdout",
     "output_type": "stream",
     "text": [
      "['A', 'C', 'B', 'D']\n",
      "['A', 'D', 'B', 'C']\n",
      "['B', 'C', 'A', 'D']\n",
      "['B', 'D', 'A', 'C']\n",
      "['C', 'A', 'D', 'B']\n",
      "['C', 'B', 'D', 'A']\n",
      "['D', 'A', 'C', 'B']\n",
      "['D', 'B', 'C', 'A']\n",
      "Min.Length = 120\n"
     ]
    }
   ],
   "source": [
    "final_result2 = []\n",
    "for i in range(len(result2)):\n",
    "    tmp = []\n",
    "    for j in range(len(result2[i]) - 1):\n",
    "        tmp.append(region[result2[i][j]])\n",
    "    final_result2.append(tmp)\n",
    "\n",
    "for i in final_result2:\n",
    "    print(i)\n",
    "print('Min.Length = {}'.format(min_distance_sum))\n",
    "        "
   ]
  },
  {
   "cell_type": "markdown",
   "metadata": {},
   "source": [
    "# 3번"
   ]
  },
  {
   "cell_type": "markdown",
   "metadata": {},
   "source": [
    "## (1)"
   ]
  },
  {
   "cell_type": "code",
   "execution_count": 108,
   "metadata": {},
   "outputs": [
    {
     "data": {
      "text/plain": [
       "50067"
      ]
     },
     "execution_count": 108,
     "metadata": {},
     "output_type": "execute_result"
    }
   ],
   "source": [
    "rv = sp.stats.norm(loc = 0, scale = 1)\n",
    "samples = rv.rvs(size = [100000, 10], random_state = 0).sum(axis = 1)\n",
    "(rv.rvs(size = 100000, random_state = 0) > 0).sum()"
   ]
  },
  {
   "cell_type": "code",
   "execution_count": 115,
   "metadata": {},
   "outputs": [
    {
     "name": "stdout",
     "output_type": "stream",
     "text": [
      "Mean : 0.015121465155362316, Std : 3.1605336330064304\n"
     ]
    }
   ],
   "source": [
    "rv = sp.stats.norm(loc = 0, scale = 1)\n",
    "samples = rv.rvs(size = [100000, 10], random_state = 0).sum(axis = 1)\n",
    "#samples\n",
    "mean = samples.mean()\n",
    "std = samples.std()\n",
    "print(\"Mean : {}, Std : {}\".format(mean, std))"
   ]
  },
  {
   "cell_type": "markdown",
   "metadata": {},
   "source": [
    "## (2)"
   ]
  },
  {
   "cell_type": "code",
   "execution_count": 165,
   "metadata": {},
   "outputs": [
    {
     "data": {
      "text/plain": [
       "array([[  1.78862847,   2.22513832,   2.32163579, ..., -12.72165071,\n",
       "        -13.02185678, -10.86370744],\n",
       "       [  0.87428572,  -0.41925091,  -0.49899185, ...,  -2.67199419,\n",
       "         -2.76723179,  -3.29441957],\n",
       "       [ -0.32158469,  -0.17045432,  -0.18908204, ...,  26.28483382,\n",
       "         27.78809577,  28.69641449],\n",
       "       ...,\n",
       "       [  1.39612182,   0.63962884,   0.69284682, ...,  -3.30022812,\n",
       "         -4.26376217,  -5.54190611],\n",
       "       [ -0.91904023,  -1.72585927,  -2.77117803, ...,  -2.84755129,\n",
       "         -0.06117975,  -0.50198865],\n",
       "       [  0.24830512,   1.1371107 ,  -0.37432954, ..., -12.16919564,\n",
       "        -11.77778226, -12.34366377]])"
      ]
     },
     "execution_count": 165,
     "metadata": {},
     "output_type": "execute_result"
    },
    {
     "data": {
      "text/plain": [
       "array([10, 76,  0, ..., 29,  2, 47])"
      ]
     },
     "execution_count": 165,
     "metadata": {},
     "output_type": "execute_result"
    },
    {
     "data": {
      "text/plain": [
       "(array([22672.,  6268.,  6631.,  5780.,  4853.,  4230.,  3640.,  3205.,\n",
       "         2668.,  2387.,  2131.,  1847.,  1683.,  1547.,  1514.,  1345.,\n",
       "         1211.,  1141.,  1050.,   978.,   904.,   949.,   822.,   718.,\n",
       "          734.,   726.,   705.,   592.,   542.,   637.,   537.,   492.,\n",
       "          529.,   478.,   490.,   461.,   444.,   400.,   382.,   365.,\n",
       "          368.,   358.,   353.,   329.,   319.,   342.,   294.,   311.,\n",
       "          302.,   263.,   270.,   269.,   242.,   256.,   234.,   243.,\n",
       "          205.,   191.,   211.,   235.,   223.,   204.,   205.,   172.,\n",
       "          204.,   165.,   176.,   158.,   151.,   151.,   175.,   154.,\n",
       "          145.,   157.,   156.,   152.,   183.,   129.,   168.,   135.,\n",
       "          131.,   131.,   128.,   130.,   124.,   140.,   129.,   103.,\n",
       "          111.,   122.,   105.,   115.,   127.,   111.,   108.,   115.,\n",
       "          102.,   119.,   101.,   102.]),\n",
       " array([ 0.  ,  0.99,  1.98,  2.97,  3.96,  4.95,  5.94,  6.93,  7.92,\n",
       "         8.91,  9.9 , 10.89, 11.88, 12.87, 13.86, 14.85, 15.84, 16.83,\n",
       "        17.82, 18.81, 19.8 , 20.79, 21.78, 22.77, 23.76, 24.75, 25.74,\n",
       "        26.73, 27.72, 28.71, 29.7 , 30.69, 31.68, 32.67, 33.66, 34.65,\n",
       "        35.64, 36.63, 37.62, 38.61, 39.6 , 40.59, 41.58, 42.57, 43.56,\n",
       "        44.55, 45.54, 46.53, 47.52, 48.51, 49.5 , 50.49, 51.48, 52.47,\n",
       "        53.46, 54.45, 55.44, 56.43, 57.42, 58.41, 59.4 , 60.39, 61.38,\n",
       "        62.37, 63.36, 64.35, 65.34, 66.33, 67.32, 68.31, 69.3 , 70.29,\n",
       "        71.28, 72.27, 73.26, 74.25, 75.24, 76.23, 77.22, 78.21, 79.2 ,\n",
       "        80.19, 81.18, 82.17, 83.16, 84.15, 85.14, 86.13, 87.12, 88.11,\n",
       "        89.1 , 90.09, 91.08, 92.07, 93.06, 94.05, 95.04, 96.03, 97.02,\n",
       "        98.01, 99.  ]),\n",
       " <a list of 100 Patch objects>)"
      ]
     },
     "execution_count": 165,
     "metadata": {},
     "output_type": "execute_result"
    },
    {
     "data": {
      "image/png": "[encoded data removed]",
      "text/plain": [
       "<Figure size 432x288 with 1 Axes>"
      ]
     },
     "metadata": {
      "needs_background": "light"
     },
     "output_type": "display_data"
    }
   ],
   "source": [
    "rv2 = sp.stats.norm(loc = 0, scale = 1)\n",
    "samples2 = rv2.rvs(size = [100000, 100], random_state = 3).cumsum(axis = 1)\n",
    "samples2\n",
    "default = np.argmax(samples2 <= -2, axis = 1)\n",
    "default\n",
    "plt.hist(default, bins = 100, color = 'B')\n",
    "plt.show()"
   ]
  },
  {
   "cell_type": "markdown",
   "metadata": {},
   "source": [
    "# 4번"
   ]
  },
  {
   "cell_type": "markdown",
   "metadata": {},
   "source": [
    "## (1)"
   ]
  },
  {
   "cell_type": "code",
   "execution_count": 199,
   "metadata": {},
   "outputs": [
    {
     "data": {
      "text/html": [
       "<div>\n",
       "<style scoped>\n",
       "    .dataframe tbody tr th:only-of-type {\n",
       "        vertical-align: middle;\n",
       "    }\n",
       "\n",
       "    .dataframe tbody tr th {\n",
       "        vertical-align: top;\n",
       "    }\n",
       "\n",
       "    .dataframe thead th {\n",
       "        text-align: right;\n",
       "    }\n",
       "</style>\n",
       "<table border=\"1\" class=\"dataframe\">\n",
       "  <thead>\n",
       "    <tr style=\"text-align: right;\">\n",
       "      <th></th>\n",
       "      <th>DATE</th>\n",
       "      <th>PAYEMS</th>\n",
       "      <th>DJIA</th>\n",
       "    </tr>\n",
       "  </thead>\n",
       "  <tbody>\n",
       "    <tr>\n",
       "      <th>0</th>\n",
       "      <td>2006-03-06</td>\n",
       "      <td>NaN</td>\n",
       "      <td>10958.59</td>\n",
       "    </tr>\n",
       "    <tr>\n",
       "      <th>1</th>\n",
       "      <td>2006-03-07</td>\n",
       "      <td>NaN</td>\n",
       "      <td>10980.69</td>\n",
       "    </tr>\n",
       "    <tr>\n",
       "      <th>2</th>\n",
       "      <td>2006-03-08</td>\n",
       "      <td>NaN</td>\n",
       "      <td>11005.74</td>\n",
       "    </tr>\n",
       "    <tr>\n",
       "      <th>3</th>\n",
       "      <td>2006-03-09</td>\n",
       "      <td>NaN</td>\n",
       "      <td>10972.28</td>\n",
       "    </tr>\n",
       "    <tr>\n",
       "      <th>4</th>\n",
       "      <td>2006-03-10</td>\n",
       "      <td>NaN</td>\n",
       "      <td>11076.34</td>\n",
       "    </tr>\n",
       "  </tbody>\n",
       "</table>\n",
       "</div>"
      ],
      "text/plain": [
       "         DATE  PAYEMS      DJIA\n",
       "0  2006-03-06     NaN  10958.59\n",
       "1  2006-03-07     NaN  10980.69\n",
       "2  2006-03-08     NaN  11005.74\n",
       "3  2006-03-09     NaN  10972.28\n",
       "4  2006-03-10     NaN  11076.34"
      ]
     },
     "execution_count": 199,
     "metadata": {},
     "output_type": "execute_result"
    },
    {
     "data": {
      "text/plain": [
       "DATE       object\n",
       "PAYEMS    float64\n",
       "DJIA      float64\n",
       "dtype: object"
      ]
     },
     "execution_count": 199,
     "metadata": {},
     "output_type": "execute_result"
    }
   ],
   "source": [
    "data4 = pd.read_csv('./Data4.csv')\n",
    "data4.head()\n",
    "data4.dtypes"
   ]
  },
  {
   "cell_type": "code",
   "execution_count": 200,
   "metadata": {},
   "outputs": [],
   "source": [
    "data4.DATE = pd.to_datetime(data4.DATE)\n",
    "data4.set_index('DATE', inplace = True)"
   ]
  },
  {
   "cell_type": "code",
   "execution_count": 201,
   "metadata": {},
   "outputs": [],
   "source": [
    "data4_per_month = data4.resample('M').mean()"
   ]
  },
  {
   "cell_type": "code",
   "execution_count": 202,
   "metadata": {},
   "outputs": [
    {
     "data": {
      "text/html": [
       "<div>\n",
       "<style scoped>\n",
       "    .dataframe tbody tr th:only-of-type {\n",
       "        vertical-align: middle;\n",
       "    }\n",
       "\n",
       "    .dataframe tbody tr th {\n",
       "        vertical-align: top;\n",
       "    }\n",
       "\n",
       "    .dataframe thead th {\n",
       "        text-align: right;\n",
       "    }\n",
       "</style>\n",
       "<table border=\"1\" class=\"dataframe\">\n",
       "  <thead>\n",
       "    <tr style=\"text-align: right;\">\n",
       "      <th></th>\n",
       "      <th>PAYEMS</th>\n",
       "      <th>DJIA</th>\n",
       "    </tr>\n",
       "    <tr>\n",
       "      <th>DATE</th>\n",
       "      <th></th>\n",
       "      <th></th>\n",
       "    </tr>\n",
       "  </thead>\n",
       "  <tbody>\n",
       "    <tr>\n",
       "      <th>2006-03-31</th>\n",
       "      <td>NaN</td>\n",
       "      <td>11161.086000</td>\n",
       "    </tr>\n",
       "    <tr>\n",
       "      <th>2006-04-30</th>\n",
       "      <td>136232.0</td>\n",
       "      <td>11234.675263</td>\n",
       "    </tr>\n",
       "    <tr>\n",
       "      <th>2006-05-31</th>\n",
       "      <td>136255.0</td>\n",
       "      <td>11333.878182</td>\n",
       "    </tr>\n",
       "    <tr>\n",
       "      <th>2006-06-30</th>\n",
       "      <td>136337.0</td>\n",
       "      <td>10997.965455</td>\n",
       "    </tr>\n",
       "    <tr>\n",
       "      <th>2006-07-31</th>\n",
       "      <td>136544.0</td>\n",
       "      <td>11032.526000</td>\n",
       "    </tr>\n",
       "  </tbody>\n",
       "</table>\n",
       "</div>"
      ],
      "text/plain": [
       "              PAYEMS          DJIA\n",
       "DATE                              \n",
       "2006-03-31       NaN  11161.086000\n",
       "2006-04-30  136232.0  11234.675263\n",
       "2006-05-31  136255.0  11333.878182\n",
       "2006-06-30  136337.0  10997.965455\n",
       "2006-07-31  136544.0  11032.526000"
      ]
     },
     "execution_count": 202,
     "metadata": {},
     "output_type": "execute_result"
    }
   ],
   "source": [
    "data4_per_month.head()"
   ]
  },
  {
   "cell_type": "code",
   "execution_count": 203,
   "metadata": {},
   "outputs": [
    {
     "data": {
      "text/html": [
       "<div>\n",
       "<style scoped>\n",
       "    .dataframe tbody tr th:only-of-type {\n",
       "        vertical-align: middle;\n",
       "    }\n",
       "\n",
       "    .dataframe tbody tr th {\n",
       "        vertical-align: top;\n",
       "    }\n",
       "\n",
       "    .dataframe thead th {\n",
       "        text-align: right;\n",
       "    }\n",
       "</style>\n",
       "<table border=\"1\" class=\"dataframe\">\n",
       "  <thead>\n",
       "    <tr style=\"text-align: right;\">\n",
       "      <th></th>\n",
       "      <th>PAYEMS</th>\n",
       "      <th>DJIA</th>\n",
       "      <th>dPAYEMS</th>\n",
       "      <th>DJIA_log</th>\n",
       "    </tr>\n",
       "    <tr>\n",
       "      <th>DATE</th>\n",
       "      <th></th>\n",
       "      <th></th>\n",
       "      <th></th>\n",
       "      <th></th>\n",
       "    </tr>\n",
       "  </thead>\n",
       "  <tbody>\n",
       "    <tr>\n",
       "      <th>2006-03-31</th>\n",
       "      <td>NaN</td>\n",
       "      <td>11161.086000</td>\n",
       "      <td>NaN</td>\n",
       "      <td>9.320189</td>\n",
       "    </tr>\n",
       "    <tr>\n",
       "      <th>2006-04-30</th>\n",
       "      <td>136232.0</td>\n",
       "      <td>11234.675263</td>\n",
       "      <td>NaN</td>\n",
       "      <td>9.326760</td>\n",
       "    </tr>\n",
       "    <tr>\n",
       "      <th>2006-05-31</th>\n",
       "      <td>136255.0</td>\n",
       "      <td>11333.878182</td>\n",
       "      <td>23.0</td>\n",
       "      <td>9.335552</td>\n",
       "    </tr>\n",
       "    <tr>\n",
       "      <th>2006-06-30</th>\n",
       "      <td>136337.0</td>\n",
       "      <td>10997.965455</td>\n",
       "      <td>82.0</td>\n",
       "      <td>9.305466</td>\n",
       "    </tr>\n",
       "    <tr>\n",
       "      <th>2006-07-31</th>\n",
       "      <td>136544.0</td>\n",
       "      <td>11032.526000</td>\n",
       "      <td>207.0</td>\n",
       "      <td>9.308603</td>\n",
       "    </tr>\n",
       "  </tbody>\n",
       "</table>\n",
       "</div>"
      ],
      "text/plain": [
       "              PAYEMS          DJIA  dPAYEMS  DJIA_log\n",
       "DATE                                                 \n",
       "2006-03-31       NaN  11161.086000      NaN  9.320189\n",
       "2006-04-30  136232.0  11234.675263      NaN  9.326760\n",
       "2006-05-31  136255.0  11333.878182     23.0  9.335552\n",
       "2006-06-30  136337.0  10997.965455     82.0  9.305466\n",
       "2006-07-31  136544.0  11032.526000    207.0  9.308603"
      ]
     },
     "execution_count": 203,
     "metadata": {},
     "output_type": "execute_result"
    }
   ],
   "source": [
    "data4_per_month['dPAYEMS'] = data4_per_month['PAYEMS'].diff()\n",
    "data4_per_month['DJIA_log'] = np.log(data4_per_month['DJIA'])\n",
    "data4_per_month.head()"
   ]
  },
  {
   "cell_type": "code",
   "execution_count": 204,
   "metadata": {},
   "outputs": [
    {
     "data": {
      "text/html": [
       "<div>\n",
       "<style scoped>\n",
       "    .dataframe tbody tr th:only-of-type {\n",
       "        vertical-align: middle;\n",
       "    }\n",
       "\n",
       "    .dataframe tbody tr th {\n",
       "        vertical-align: top;\n",
       "    }\n",
       "\n",
       "    .dataframe thead th {\n",
       "        text-align: right;\n",
       "    }\n",
       "</style>\n",
       "<table border=\"1\" class=\"dataframe\">\n",
       "  <thead>\n",
       "    <tr style=\"text-align: right;\">\n",
       "      <th></th>\n",
       "      <th>PAYEMS</th>\n",
       "      <th>DJIA</th>\n",
       "      <th>dPAYEMS</th>\n",
       "      <th>DJIA_log</th>\n",
       "      <th>dDJIA_log</th>\n",
       "    </tr>\n",
       "    <tr>\n",
       "      <th>DATE</th>\n",
       "      <th></th>\n",
       "      <th></th>\n",
       "      <th></th>\n",
       "      <th></th>\n",
       "      <th></th>\n",
       "    </tr>\n",
       "  </thead>\n",
       "  <tbody>\n",
       "    <tr>\n",
       "      <th>2006-03-31</th>\n",
       "      <td>NaN</td>\n",
       "      <td>11161.086000</td>\n",
       "      <td>NaN</td>\n",
       "      <td>9.320189</td>\n",
       "      <td>NaN</td>\n",
       "    </tr>\n",
       "    <tr>\n",
       "      <th>2006-04-30</th>\n",
       "      <td>136232.0</td>\n",
       "      <td>11234.675263</td>\n",
       "      <td>NaN</td>\n",
       "      <td>9.326760</td>\n",
       "      <td>0.006572</td>\n",
       "    </tr>\n",
       "    <tr>\n",
       "      <th>2006-05-31</th>\n",
       "      <td>136255.0</td>\n",
       "      <td>11333.878182</td>\n",
       "      <td>23.0</td>\n",
       "      <td>9.335552</td>\n",
       "      <td>0.008791</td>\n",
       "    </tr>\n",
       "    <tr>\n",
       "      <th>2006-06-30</th>\n",
       "      <td>136337.0</td>\n",
       "      <td>10997.965455</td>\n",
       "      <td>82.0</td>\n",
       "      <td>9.305466</td>\n",
       "      <td>-0.030086</td>\n",
       "    </tr>\n",
       "    <tr>\n",
       "      <th>2006-07-31</th>\n",
       "      <td>136544.0</td>\n",
       "      <td>11032.526000</td>\n",
       "      <td>207.0</td>\n",
       "      <td>9.308603</td>\n",
       "      <td>0.003138</td>\n",
       "    </tr>\n",
       "  </tbody>\n",
       "</table>\n",
       "</div>"
      ],
      "text/plain": [
       "              PAYEMS          DJIA  dPAYEMS  DJIA_log  dDJIA_log\n",
       "DATE                                                            \n",
       "2006-03-31       NaN  11161.086000      NaN  9.320189        NaN\n",
       "2006-04-30  136232.0  11234.675263      NaN  9.326760   0.006572\n",
       "2006-05-31  136255.0  11333.878182     23.0  9.335552   0.008791\n",
       "2006-06-30  136337.0  10997.965455     82.0  9.305466  -0.030086\n",
       "2006-07-31  136544.0  11032.526000    207.0  9.308603   0.003138"
      ]
     },
     "execution_count": 204,
     "metadata": {},
     "output_type": "execute_result"
    }
   ],
   "source": [
    "data4_per_month['dDJIA_log'] = data4_per_month['DJIA_log'].diff()\n",
    "data4_per_month.head()"
   ]
  },
  {
   "cell_type": "code",
   "execution_count": 205,
   "metadata": {},
   "outputs": [
    {
     "data": {
      "text/plain": [
       "0.2446507127822187"
      ]
     },
     "execution_count": 205,
     "metadata": {},
     "output_type": "execute_result"
    }
   ],
   "source": [
    "data4_per_month['dDJIA_log'].corr(data4_per_month['dPAYEMS'])"
   ]
  },
  {
   "cell_type": "markdown",
   "metadata": {},
   "source": [
    "## (2)"
   ]
  },
  {
   "cell_type": "code",
   "execution_count": 216,
   "metadata": {},
   "outputs": [],
   "source": [
    "data4_2 = data4_per_month.copy()\n",
    "data4_2.dropna(axis = 0, inplace = True)"
   ]
  },
  {
   "cell_type": "code",
   "execution_count": 217,
   "metadata": {},
   "outputs": [],
   "source": [
    "X = data4_2['dPAYEMS']\n",
    "y = data4_2['dDJIA_log']"
   ]
  },
  {
   "cell_type": "code",
   "execution_count": 218,
   "metadata": {},
   "outputs": [
    {
     "data": {
      "text/plain": [
       "LinearRegression(copy_X=True, fit_intercept=True, n_jobs=None, normalize=False)"
      ]
     },
     "execution_count": 218,
     "metadata": {},
     "output_type": "execute_result"
    }
   ],
   "source": [
    "line_fitter = LinearRegression()\n",
    "line_fitter.fit(X.values.reshape(-1,1), y)"
   ]
  },
  {
   "cell_type": "code",
   "execution_count": 222,
   "metadata": {},
   "outputs": [
    {
     "name": "stdout",
     "output_type": "stream",
     "text": [
      "Beta is 0.0\n",
      "alpha is 0.001\n"
     ]
    }
   ],
   "source": [
    "print('Beta is {}'.format(round(line_fitter.coef_[0], 3)))\n",
    "print('alpha is {}'.format(round(line_fitter.intercept_, 3)))"
   ]
  },
  {
   "cell_type": "code",
   "execution_count": 224,
   "metadata": {},
   "outputs": [
    {
     "data": {
      "text/plain": [
       "[<matplotlib.lines.Line2D at 0x148b9bb00>]"
      ]
     },
     "execution_count": 224,
     "metadata": {},
     "output_type": "execute_result"
    },
    {
     "data": {
      "text/plain": [
       "[<matplotlib.lines.Line2D at 0x148b841d0>]"
      ]
     },
     "execution_count": 224,
     "metadata": {},
     "output_type": "execute_result"
    },
    {
     "data": {
      "image/png": "[encoded data removed]",
      "text/plain": [
       "<Figure size 432x288 with 1 Axes>"
      ]
     },
     "metadata": {
      "needs_background": "light"
     },
     "output_type": "display_data"
    }
   ],
   "source": [
    "plt.plot(X, y, 'o')\n",
    "plt.plot(X,line_fitter.predict(X.values.reshape(-1,1)))\n",
    "plt.show()"
   ]
  },
  {
   "cell_type": "code",
   "execution_count": null,
   "metadata": {},
   "outputs": [],
   "source": []
  }
 ],
 "metadata": {
  "kernelspec": {
   "display_name": "Python 3",
   "language": "python",
   "name": "python3"
  },
  "language_info": {
   "codemirror_mode": {
    "name": "ipython",
    "version": 3
   },
   "file_extension": ".py",
   "mimetype": "text/x-python",
   "name": "python",
   "nbconvert_exporter": "python",
   "pygments_lexer": "ipython3",
   "version": "3.6.8"
  }
 },
 "nbformat": 4,
 "nbformat_minor": 2
}
